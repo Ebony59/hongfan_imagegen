{
 "cells": [
  {
   "cell_type": "code",
   "execution_count": 1,
   "id": "98fe97d4-7e02-4456-af46-c2397c38c966",
   "metadata": {},
   "outputs": [],
   "source": [
    "import torch\n",
    "from diffusers import StableDiffusion3Pipeline, StableDiffusionXLPipeline, DPMSolverMultistepScheduler, UNet2DConditionModel, AutoencoderKL\n",
    "from transformers import BlipProcessor, BlipForConditionalGeneration, AutoTokenizer\n",
    "from PIL import Image\n",
    "import numpy as np\n",
    "from accelerate import Accelerator\n",
    "import os\n",
    "from torch.utils.data import Dataset, DataLoader"
   ]
  },
  {
   "cell_type": "code",
   "execution_count": 6,
   "id": "ed570931-9fdd-4cbe-89a9-d37b6a1223a0",
   "metadata": {},
   "outputs": [],
   "source": [
    "processor = BlipProcessor.from_pretrained(\"Salesforce/blip-image-captioning-large\")\n",
    "model = BlipForConditionalGeneration.from_pretrained(\"Salesforce/blip-image-captioning-large\").to(\"cuda\")"
   ]
  },
  {
   "cell_type": "code",
   "execution_count": 9,
   "id": "6520c730-fa2e-45f1-8aa8-20fc6c65c105",
   "metadata": {},
   "outputs": [],
   "source": [
    "def generate_caption(image_path):\n",
    "    image = Image.open(image_path).convert(\"RGB\")\n",
    "    inputs = processor(images=image, return_tensors=\"pt\")\n",
    "    inputs = {k: v.to(\"cuda\") for k, v in inputs.items()}\n",
    "    caption = model.generate(**inputs)\n",
    "    return processor.decode(caption[0], skip_special_tokens=True)"
   ]
  },
  {
   "cell_type": "code",
   "execution_count": 11,
   "id": "8634a785-740a-427e-9055-3538071c2c14",
   "metadata": {},
   "outputs": [
    {
     "name": "stdout",
     "output_type": "stream",
     "text": [
      "image11.png: three different colored pumpkins with black and pink designs on them\n",
      "image36.png: three tombstones with a skull and crossbone on them\n",
      "image23.png: a close up of a disco ball with a face on it\n",
      "image35.png: three different color skulls are in a holder with brushes\n",
      "image50.png: a close up of two tiered trays with spider webs\n",
      "image18.png: a close up of a coffin with a pink bow and a skull\n",
      "image54.png: a close up of a skeleton with a pink bow on its head\n",
      "image49.png: a close up of a ghost with a phone in its hand\n",
      "image26.png: there is a black heart shaped object with a pink bow on it\n",
      "image6.png: a close up of a small white ghost with a pink heart\n",
      "image51.png: a close up of a heart shaped plate with a spider web design\n",
      "image55.png: a close up of a figurine of a ghost riding a scooter\n",
      "image44.png: two different colored ghost heads with a heart on them\n",
      "image46.png: three halloween pumpkins with faces and hearts are shown in three different colors\n",
      "image3.png: a black and white photo of a mirror with a bow\n",
      "image34.png: there is a pink makeup brush holder with a pink tombstone\n",
      "image37.png: a close up of a heart shaped plate with a spider web on it\n",
      "image42.png: two pink and black bat shaped toys with hearts on them\n",
      "image15.png: two coffins with bows and skulls on them are decorated with pink and black ribbons\n",
      "image19.png: arafed skeleton in a coffin with pink frosting on it\n",
      "image27.png: a close up of a black pot with a bat design on it\n",
      "image13.png: two skulls with veils and bows on their heads\n",
      "image10.png: three black pumpkins with pearls on them sitting next to each other\n",
      "image43.png: two plates with different designs of bats and skulls on them\n",
      "image4.png: two black and pink witches hats with bows on them\n",
      "image45.png: there are two skulls with bows on their heads\n",
      "image22.png: there is a skull with a heart on it and a mirror ball\n",
      "image40.png: two mugs with the words good witch and bad witch on them\n",
      "image48.png: there is a spider web with a crown on it\n",
      "image30.png: there is a black vase with a spider web design on it\n",
      "image29.png: a close up of a cup with a bat design on it\n",
      "image62.png: a close up of a black and white box with bats on it\n",
      "image14.png: a close up of a pink glitter coffin with a ghost inside\n",
      "image9.png: a close up of two hands holding a heart with a spider web in the middle\n",
      "image2.png: there are two skulls with bows on their heads\n",
      "image59.png: there are two halloween decorations that are sitting next to each other\n",
      "image12.png: a close up of a mirror with a skeleton holding a pink bow\n",
      "image39.png: a white mug with a pink and black design on it\n",
      "image24.png: there is a black heart shaped box with a pink bow on top\n",
      "image20.png: a close up of a heart shaped balloon with a spider web on it\n",
      "image21.png: arafed skeleton hand with pink bow on black heart shaped plate\n",
      "image7.png: a close up of a ghost with a pink bow on its head\n",
      "image16.png: a close up of a cat with a skeleton on its back\n",
      "image38.png: a close up of a cup with a pink drip on it\n",
      "image17.png: a close up of a bat with a skeleton on it\n",
      "image41.png: a close up of a black pumpkin with a bat on it\n",
      "ghouldfriend_p01.png: a close up of a black bat with big eyes and a big nose\n",
      "p08.jpg: a close up of a penguin with a christmas present on a calendar\n",
      "p04.jpg: a close up of a halloween candle holder with a witch hat on top\n",
      "p05.jpg: there are three pumpkins stacked on top of each other\n",
      "p12.png: two wooden nutcrackers with pine cones and hollyconnets on them\n",
      "p11.jpg: a close up of a toy figure of a cat with a cup\n",
      "p10.jpg: there is a snowman with a hat and scarf holding a present\n",
      "p01.jpg: gnome with a butterfly on his head holding a flower pot\n",
      "p03.jpg: gnome with a flower and butterfly on a white background\n",
      "p09.jpg: there is a snowman with a scarf and hat holding a red ribbon\n",
      "p02.jpg: cartoon illustration of a bee with a pot of honey\n",
      "p07.jpg: a close up of a skeleton hand holding a skull on a stand\n",
      "p06.jpg: a black and white drawing of a hand with a triangle and all seeing symbols\n"
     ]
    }
   ],
   "source": [
    "image_folder = \"datasets/designs/\"\n",
    "caption_file = \"datasets/caption.txt\"\n",
    "for img in os.listdir(image_folder):\n",
    "    if img == \".ipynb_checkpoints\" in img:\n",
    "        continue\n",
    "    caption = generate_caption(os.path.join(image_folder, img))\n",
    "    print(f\"{img}: {caption}\")\n",
    "    caption = caption + \", in the style of HFdesign\"\n",
    "    with open(caption_file, \"a\") as f:\n",
    "        f.write(f'{img}\\t{caption}\\n')"
   ]
  },
  {
   "cell_type": "code",
   "execution_count": null,
   "id": "b82070c5-f2d3-4825-8e06-4ff89fea779c",
   "metadata": {},
   "outputs": [],
   "source": []
  }
 ],
 "metadata": {
  "kernelspec": {
   "display_name": "Python 3 (ipykernel)",
   "language": "python",
   "name": "python3"
  },
  "language_info": {
   "codemirror_mode": {
    "name": "ipython",
    "version": 3
   },
   "file_extension": ".py",
   "mimetype": "text/x-python",
   "name": "python",
   "nbconvert_exporter": "python",
   "pygments_lexer": "ipython3",
   "version": "3.10.12"
  }
 },
 "nbformat": 4,
 "nbformat_minor": 5
}
